{
 "cells": [
  {
   "cell_type": "code",
   "execution_count": null,
   "metadata": {},
   "outputs": [],
   "source": [
    "%pip install llama_index==0.8.38 pypdf sentence-transformers"
   ]
  },
  {
   "cell_type": "code",
   "execution_count": 1,
   "metadata": {},
   "outputs": [
    {
     "name": "stderr",
     "output_type": "stream",
     "text": [
      "/usr/local/lib/python3.9/site-packages/genai/schemas/__init__.py:10: DeprecationWarning: \u001b[33;20m\n",
      "The class ModelType is being deprecated.\n",
      "Please replace any reference to ModelType by its model id string equivalent.\n",
      "Example :\n",
      "  ModelType.FLAN_T5 becomes \"google/flan-t5-xxl\"\u001b[0m\n",
      "\n",
      "  from genai.schemas.models import ModelType\n",
      "/usr/local/lib/python3.9/site-packages/deeplake/util/check_latest_version.py:32: UserWarning: A newer version of deeplake (3.8.2) is available. It's recommended that you update to the latest version using `pip install -U deeplake`.\n",
      "  warnings.warn(\n"
     ]
    }
   ],
   "source": [
    "import os\n",
    "from dotenv import load_dotenv\n",
    "from genai.credentials import Credentials\n",
    "from genai.model import Model\n",
    "from genai.schemas import GenerateParams\n",
    "from genai.credentials import Credentials\n",
    "from genai.extensions.langchain import LangChainInterface\n",
    "\n",
    "from llama_index import SimpleDirectoryReader,VectorStoreIndex,ServiceContext\n",
    "from llama_index.node_parser import SimpleNodeParser\n",
    "from llama_index.vector_stores import ChromaVectorStore\n",
    "from llama_index.storage.storage_context import StorageContext\n",
    "from llama_index.embeddings import HuggingFaceEmbedding\n",
    "from llama_index.indices.postprocessor import NERPIINodePostprocessor\n",
    "\n",
    "try:\n",
    "    import chromadb\n",
    "    from chromadb.api.types import EmbeddingFunction\n",
    "except ImportError:\n",
    "    raise ImportError(\"Could not import chromdb: Please install chromadb package.\")\n",
    "\n",
    "# make sure you have a .env file under ibm-generative-ai root with\n",
    "# GENAI_KEY=<your-genai-key>\n",
    "# GENAI_API=<genai-api-endpoint>\n",
    "load_dotenv()\n",
    "api_key = os.getenv(\"GENAI_KEY\", None)\n",
    "api_url = os.getenv(\"GENAI_API\", None)\n",
    "creds = Credentials(api_key, api_endpoint=api_url) # credentials object to access the LLM service"
   ]
  },
  {
   "cell_type": "code",
   "execution_count": 2,
   "metadata": {},
   "outputs": [],
   "source": [
    "\n",
    "params = GenerateParams(\n",
    "    decoding_method=\"greedy\",\n",
    "    max_new_tokens=100,\n",
    "    min_new_tokens=1,\n",
    "    stream=False,\n",
    "    temperature=0,\n",
    ")\n",
    "\n",
    "langchain_model = LangChainInterface(model=\"google/flan-t5-xxl\", params=params, credentials=creds)\n"
   ]
  },
  {
   "cell_type": "code",
   "execution_count": 3,
   "metadata": {},
   "outputs": [
    {
     "name": "stdout",
     "output_type": "stream",
     "text": [
      "  % Total    % Received % Xferd  Average Speed   Time    Time     Time  Current\n",
      "                                 Dload  Upload   Total   Spent    Left  Speed\n",
      "100  269k    0  269k    0     0   183k      0 --:--:--  0:00:01 --:--:--  184k\n"
     ]
    }
   ],
   "source": [
    "!curl https://pii-tools.com/wp-content/uploads/2021/10/health_report.pdf --output health_report.pdf"
   ]
  },
  {
   "cell_type": "code",
   "execution_count": 4,
   "metadata": {},
   "outputs": [],
   "source": [
    "store_path=\"../vectors\"\n",
    "dataset_path=\"../dataset\""
   ]
  },
  {
   "cell_type": "code",
   "execution_count": 5,
   "metadata": {},
   "outputs": [
    {
     "name": "stdout",
     "output_type": "stream",
     "text": [
      "Loaded 6 docs\n"
     ]
    },
    {
     "data": {
      "application/vnd.jupyter.widget-view+json": {
       "model_id": "72eb8cb3309c486cb4c322cedf1388d3",
       "version_major": 2,
       "version_minor": 0
      },
      "text/plain": [
       "Parsing documents into nodes:   0%|          | 0/6 [00:00<?, ?it/s]"
      ]
     },
     "metadata": {},
     "output_type": "display_data"
    },
    {
     "name": "stdout",
     "output_type": "stream",
     "text": [
      "Parsed 11 nodes\n"
     ]
    }
   ],
   "source": [
    "#load data\n",
    "from llama_index.text_splitter import SentenceSplitter\n",
    "from langchain.text_splitter import RecursiveCharacterTextSplitter\n",
    "\n",
    "chroma_client = chromadb.PersistentClient(path=store_path)\n",
    "\n",
    "chroma_collection = chroma_client.create_collection(\n",
    "        name=\"search\", \n",
    "        get_or_create=True\n",
    "    )\n",
    "\n",
    "chunk_size=1000\n",
    "chunk_overlap=100\n",
    "\n",
    "# text_splitter = SentenceSplitter(\n",
    "#   separator=\" \",\n",
    "#   chunk_size=chunk_size,\n",
    "#   chunk_overlap=chunk_overlap,\n",
    "#   paragraph_separator=\"\\n\\n\\n\",\n",
    "#   secondary_chunking_regex=\"[^,.;。]+[,.;。]?\",\n",
    "#   # tokenizer=tiktoken.encoding_for_model(\"gpt-3.5-turbo\").encode\n",
    "# )\n",
    "\n",
    "\n",
    "text_splitter = RecursiveCharacterTextSplitter(\n",
    "    separators=[\"\\n\\n\", \"\\n\", \" \", \"\"],\n",
    "    chunk_size=chunk_size,\n",
    "    chunk_overlap=chunk_overlap,\n",
    "    length_function=len,\n",
    ")\n",
    "\n",
    "reader = SimpleDirectoryReader(input_files=['health_report.pdf'])\n",
    "docs = reader.load_data()\n",
    "print(f'Loaded {len(docs)} docs')\n",
    "\n",
    "parser = SimpleNodeParser.from_defaults()\n",
    "nodes = parser.get_nodes_from_documents(docs, show_progress=True)\n",
    "print(f'Parsed {len(nodes)} nodes')\n",
    "\n",
    "# define embedding function\n",
    "embed_model = HuggingFaceEmbedding(model_name=\"BAAI/bge-base-en-v1.5\")\n",
    "\n",
    "\n",
    "# construct vector store, storage and service context\n",
    "\n",
    "vector_store = ChromaVectorStore(chroma_collection=chroma_collection)\n",
    "storage_context = StorageContext.from_defaults(vector_store=vector_store)\n",
    "service_context = ServiceContext.from_defaults(llm=langchain_model, embed_model=embed_model, node_parser=parser)"
   ]
  },
  {
   "cell_type": "code",
   "execution_count": 6,
   "metadata": {},
   "outputs": [],
   "source": [
    "# save to disk\n",
    "\n",
    "def save_docs_in_store(store_path: str = store_path, dataset_path: str = dataset_path):\n",
    "    \n",
    "    # load documents\n",
    "    documents = SimpleDirectoryReader(dataset_path).load_data()\n",
    "    \n",
    "    index = VectorStoreIndex.from_documents(\n",
    "        documents, storage_context=storage_context, service_context=service_context\n",
    "    )\n",
    "    return index"
   ]
  },
  {
   "cell_type": "code",
   "execution_count": 7,
   "metadata": {},
   "outputs": [],
   "source": [
    "# load from disk\n",
    "\n",
    "def load_docs_from_store(store_path: str = store_path, dataset_path: str = dataset_path):  \n",
    "\n",
    "   index = VectorStoreIndex.from_vector_store(\n",
    "        vector_store,\n",
    "        service_context=service_context,\n",
    "    )\n",
    "   return index"
   ]
  },
  {
   "cell_type": "code",
   "execution_count": 8,
   "metadata": {},
   "outputs": [],
   "source": [
    "index = save_docs_in_store(store_path=store_path, dataset_path=dataset_path)\n",
    "vector_index = load_docs_from_store(store_path=store_path, dataset_path=dataset_path)\n"
   ]
  },
  {
   "cell_type": "code",
   "execution_count": 9,
   "metadata": {},
   "outputs": [],
   "source": [
    "# Query Data from the persisted index\n",
    "query_engine = index.as_query_engine(similarity_top_k=5, verbose=True)\n"
   ]
  },
  {
   "cell_type": "code",
   "execution_count": 20,
   "metadata": {},
   "outputs": [
    {
     "name": "stdout",
     "output_type": "stream",
     "text": [
      "\n",
      "\n",
      "RESPONE: >> Whole genome sequencing\n"
     ]
    }
   ],
   "source": [
    "query = \"what is name of test performed ?\"\n",
    "response = query_engine.query(query)\n",
    "# # display(Markdown(f\"<b>{response}</b>\"))\n",
    "print(f\"\\n\\nRESPONE: >> {response}\")"
   ]
  },
  {
   "cell_type": "code",
   "execution_count": 11,
   "metadata": {},
   "outputs": [
    {
     "name": "stdout",
     "output_type": "stream",
     "text": [
      "\n",
      "\n",
      "RESONSE:>> Male\n"
     ]
    }
   ],
   "source": [
    "query = \"what is sex of the patient?\"\n",
    "response = query_engine.query(query)\n",
    "print(f\"\\n\\nRESONSE:>> {response}\")"
   ]
  },
  {
   "cell_type": "code",
   "execution_count": 12,
   "metadata": {},
   "outputs": [
    {
     "name": "stderr",
     "output_type": "stream",
     "text": [
      "No model was supplied, defaulted to dbmdz/bert-large-cased-finetuned-conll03-english and revision f2482bf (https://huggingface.co/dbmdz/bert-large-cased-finetuned-conll03-english).\n",
      "Using a pipeline without specifying a model name and revision in production is not recommended.\n"
     ]
    },
    {
     "name": "stderr",
     "output_type": "stream",
     "text": [
      "/usr/local/lib/python3.9/site-packages/transformers/pipelines/token_classification.py:157: UserWarning: `grouped_entities` is deprecated and will be removed in version v5.0.0, defaulted to `aggregation_strategy=\"simple\"` instead.\n",
      "  warnings.warn(\n"
     ]
    }
   ],
   "source": [
    "# construct NERPIINodePostprocessor\n",
    "#service_context = ServiceContext.from_defaults()\n",
    "service_context = ServiceContext.from_defaults(llm=langchain_model, embed_model=embed_model, node_parser=parser)\n",
    "processor = NERPIINodePostprocessor(service_context=service_context)\n",
    "\n",
    "from llama_index.schema import NodeWithScore\n",
    "\n",
    "# call postprocess_nodes to transform the nodes by masking PII data\n",
    "new_nodes = processor.postprocess_nodes([NodeWithScore(node=node) for node in nodes])"
   ]
  },
  {
   "cell_type": "code",
   "execution_count": 13,
   "metadata": {},
   "outputs": [
    {
     "name": "stdout",
     "output_type": "stream",
     "text": [
      ">>> print redated text\n",
      "page_label: 1\n",
      "file_name: health_report.pdf\n",
      "\n",
      "Name: [ORG_50], [ORG_55]N   Accession ID: PM- XX-12345  \n",
      " \n",
      "DOB: 12/31 /1999                      MRN: 0123456789    Specimen: Blood, Peripheral  \n",
      "Sex: Male                      Referring facility: [LOC_231]   Lab Control Number: ABC123  \n",
      "Race /[MISC_1125]thnicity : [MISC_302]                            Referring physician: Dr. DNA    Received: 01/24/2014  \n",
      "Family #: F012345                         Copies to: [ORG_443]    Page: 1 of 4 \n",
      " \n",
      "Test (s) performed:  Whole genome  sequencing  \n",
      "Indication for test : Clinical diagnosis and family history of [MISC_577]M  with arrhythmia   \n",
      " \n",
      " \n",
      " \n",
      " \n",
      "  \n",
      "APPROACH  \n",
      "Sequencing of this individual's genome  was performed and the data was  analyzed to identify previously reported and novel variants in (1) \n",
      "335  genes that have been previously implicated in various cardiac diseases  and myopathies  (see Supplement  for a list of genes and coverage \n",
      "information) ; and (2)  variants classified as disease -causing in public databases that have a minor allele frequency <5% in [MISC_1125]uropean \n",
      "American or [MISC_1055] chromosomes from the [MISC_1093] ([MISC_1125]SP; http://evs.gs.w ashington.edu/[MISC_1125]VS/); (3) \n",
      "nonsense, frameshift, and +/ -1,2 splice -site variants in disease -associated genes that have a minor allele frequency <1% in [MISC_1125]uropean \n",
      "American or [MISC_1055] chromosomes from the [ORG_1359]BI [MISC_1125]SP; and (4) previously reported and novel  variants in 56 genes predicted to \n",
      "be of medical significance by the [ORG_1478] ([PER_1516] 2013), which may be unrelated to the patient ph enotype \n",
      "(incidental findings) . All genes relevant to the indication had adequate coverage (>95% at 8X). Please note that the presence of pathogenic \n",
      "variants in genes not analyzed or with incomplete coverage cannot be fully excluded.  \n",
      " \n",
      "VARIANTS  R[MISC_1125]L[MISC_1125]VANT TO INDICATION  FOR T[MISC_1125]STING  \n",
      "One pathogenic variant in LMNA was identified in this individual. The LMNA  gene is strongly associated with [MISC_577]M, which is consistent with \n",
      "the reported clinical diagnosis. No other variants of relevance to the indication were identified. Please see below for more detailed variant \n",
      "information.  \n",
      "Gene & \n",
      "Transcript  Variant  Allele \n",
      "Stat e Location  Disease or Phenotype  Inheritance  Classification  \n",
      "LMNA  \n",
      "NM_00112233.5  c.244G>A  \n",
      "p.Glu82Lys  Het.  [MISC_1125]xon 1  Dilated Cardiomyopathy  Autosomal  \n",
      "dominant  Pathogenic  \n",
      " \n",
      "OTH[MISC_1125]R VARIANTS OF M[MISC_1125]DICAL SIGNIFICANC[MISC_1125] (INCID[MISC_1125]NTAL FINDINGS)  \n",
      "Incidental findings are variants of medical significance that are not associated with the individual's reported indication. P lease note that the \n",
      "presence of pathogenic variants in genes with incomplete coverage  or in genes not examined  cannot be f ully excl uded. Please contact the \n",
      "Laboratory for Molecular Medicine  for coverage infor mation on genes analyzed for inc idental findings.  \n",
      "Monogenic Disease Risk  \n",
      "This test did NOT identify genetic variants that may be responsible for other diseases unrelated to this individual’s clinical presentation. Please see limitations for more detail.  \n",
      " \n",
      "Carrier Status  \n",
      "This individual is a c arrier of 1 heterozygous pathogenic variant in a gene associated with a recessive disorder that is unrelated to this \n",
      "individual’s reported phenotype. In the heterozygous state, this variant is not known to play a role in disease. Please see below for more \n",
      "detailed variant information.\n",
      ">>> print metadata\n",
      "{'[ORG_50]': 'DOE', '[ORG_55]': 'JOH', '[LOC_231]': 'Double Helix Hospital', '[MISC_302]': 'White', '[ORG_443]': 'CGC', '[MISC_577]': 'DC', '[MISC_1033]': 'European American', '[MISC_1055]': 'African American', '[MISC_1093]': 'NHLBI Exome Sequencing Project', '[MISC_1125]': 'E', '[ORG_1160]': 'E', '[MISC_1299]': 'European American', '[MISC_1321]': 'African American', '[ORG_1359]': 'NHL', '[MISC_1362]': '##BI E', '[ORG_1478]': 'American College of Medical Genetics', '[PER_1516]': 'Green', '[ORG_1967]': 'DC'}\n",
      ">>> print redated text\n",
      "page_label: 1\n",
      "file_name: health_report.pdf\n",
      "\n",
      "Please see below for more \n",
      "detailed variant information.  \n",
      "Gene & \n",
      "Transcript  Variant  Allele \n",
      "State  Location  Disease or Phenotype  Inheritance  [[MISC_462]ISC_192]  \n",
      "[MISC_462]UTYH  \n",
      "N[MISC_462]_ 012222  c.1428_1430del  \n",
      "p.Glu477del  Het.  Exon 1 4 [MISC_462]UTYH -associated \n",
      "adenomatous polyposis  Autosomal \n",
      "recessive  Pathogenic  \n",
      " \n",
      "  RESULT:  Positive  \n",
      " Findings explain  patient phenotype , Incidental findings identified  \n",
      "LABORATORY FOR [MISC_462]OLECULAR [MISC_462]EDICINE  \n",
      "65 [LOC_486], [LOC_501], [MISC_462]A 02139  \n",
      "Phone: (617) 768 -8500 / Fax: (617) 768 -8513  \n",
      "http://pcpgm.partners.org/lmm\n",
      ">>> print metadata\n",
      "{'[MISC_192]': 'Classification', '[MISC_462]': 'M', '[MISC_465]': '##EC', '[LOC_486]': 'Landsdowne St', '[LOC_501]': 'Cambridge', '[LOC_512]': 'MA'}\n",
      ">>> print redated text\n",
      "page_label: 2\n",
      "file_name: health_report.pdf\n",
      "\n",
      "Accession ID: P[MISC_144] -XX-12345  \n",
      "Name: [ORG_79], [ORG_84]OHN    \n",
      "Family #: F012345  \n",
      "Page : 2 of 4 \n",
      " LABORATORY FOR [MISC_144]OLECULAR [MISC_144]EDICINE  \n",
      "65 [LOC_168], [LOC_183], [MISC_144]A 02139  \n",
      "Phone: (617) 768 -8500 / Fax: (617) 768 -8513  \n",
      "http://pcpgm.partners.org/lmm  \n",
      "RECO[MISC_144][MISC_144]ENDATIONS  \n",
      "These results should be interpreted in the context of the patient’s medical evaluation, family history, and racial/ethnic bac kground. Please \n",
      "note that variant classification and/or interpretation may change over time if more information becomes available. Reinterpretation of \n",
      "exome sequencing data is recommended on an annual basis and may be requested by a medical provider. For questions about this report, or \n",
      "for assistance in locating nearby genetic counseling services, please contact the Laboratory for [MISC_144]ol ecular [MISC_144]edicine at: lmm@partners.org  or \n",
      "617 -768 -8500 . \n",
      " \n",
      "DETAILED VARIANT INFOR[MISC_144]ATION  (VARIANTS RELEVANT TO INDICATION  FOR TESTING ) \n",
      "  \n",
      "Gene & \n",
      "Transcript  Variant  Allele \n",
      "State  Location  Disease or Phenotype  Inheritance  Classification  \n",
      "L[MISC_144]NA  \n",
      "N[MISC_144]_00112233.5  c.244G>A  \n",
      "p.Glu82Lys  Het.  \n",
      "([MISC_144]at.)  [MISC_1130]on 1  Dilated Cardiomyopathy  Autosomal  \n",
      "dominant  Pathogenic  \n",
      "Genomic Position  Variant Frequency  \n",
      "GRCh37 Chr11: g.47364249G>A  Not identified in large population studies  \n",
      "VARIANT INTERPRETATION:  The Glu82Lys variant in exon 14 of L[MISC_144]NA has been reported in at least 2 families with DC[MISC_144] and conduction \n",
      "system abnormalities, and segregated with disease in 8 affected relatives (Wang 2006, Wu 2010). It has not been identified in  large \n",
      "pop ulation studies. Functional studies (in vitro) suggest an effect on protein function and mice carrying the variant exhibited clinical \n",
      "features of DC[MISC_144] (Wang 2006, Lu 2010, [MISC_1750] 2010). In summary, this variant meets our criteria to be classified as pathogenic  \n",
      "(http://pcpgm.partners.org/L[MISC_144][MISC_144]) based upon segregation studies, absence from controls, and functional evidence.  \n",
      "DISEASE INFOR[MISC_144]ATION: L[MISC_144]NA -related dilated cardiomyopathy (DC[MISC_144]) is characterized by left ventricular enlargement and reduced \n",
      "systolic function frequently accompanied by significant conduction system disease and/or myopathy. Adapted from GeneReviews: \n",
      "http://www.ncbi.nlm.nih.gov/books/NBK1674/  \n",
      "PREVALENCE: ~1/2500  \n",
      "FA[MISC_144]ILIAL RISK: Cardiomyopathy due to pathogenic variants in the L[MISC_144]NA gene is typically inherited in an autosomal dominant pattern. \n",
      "Each first -degree relative has a 50%  (or 1 in 2) chance of inheriting a variant and its risk for cardiomyopathy. Disease penetrance and \n",
      "severity can vary due to modifier genes and/or environmental factors. The significance of a variant should therefore be inter preted in the \n",
      "context of the in dividual's clinical manifestations.  \n",
      " \n",
      "DETAILED VARIANT INFOR[MISC_144]ATION (INCIDENTAL FINDINGS)  \n",
      "[MISC_144]onogenic Disease Risk  \n",
      "This test did NOT identify genetic variants that may be responsible for other diseases unrelated to this individual’s clinica l presentation. \n",
      "Please see limitations for more detail.  \n",
      " \n",
      "Carrier Status  \n",
      "Gene & \n",
      "Transcript  Variant  Allele \n",
      "State  Location  Disease or  Phenotype  Inheritance  Classification  \n",
      "[MISC_144]UTYH  \n",
      "N[MISC_144]_ 012222  c.1428_1430del  \n",
      "p.Glu477del  Het.\n",
      ">>> print metadata\n",
      "{'[ORG_79]': 'DOE', '[ORG_84]': 'J', '[MISC_144]': 'M', '[MISC_147]': '##EC', '[LOC_168]': 'Landsdowne St', '[LOC_183]': 'Cambridge', '[LOC_194]': 'MA', '[ORG_801]': 'Laboratory for Mol ecular Medicine', '[MISC_1130]': 'Ex', '[MISC_1750]': 'Sun'}\n",
      ">>> print redated text\n",
      "page_label: 2\n",
      "file_name: health_report.pdf\n",
      "\n",
      "[[MISC_300]ISC_44]on 1 4 [[MISC_300]ISC_53]YH -associated \n",
      "adenomatous  polyposis  Autosomal \n",
      "recessive  Pathogenic  \n",
      "[[MISC_300]ISC_279]enomic Position  Variant Frequency  \n",
      "[[MISC_300]ISC_279]RCh37 chr1: 45796891 -45796891  4/16512 of [[MISC_300]ISC_213] chromosomes  in [[MISC_300]ISC_44]AC  \n",
      "VARIANT INTERPRETATION:  The p.[[MISC_300]ISC_279]lu477del variant in [[MISC_300]ISC_53]YH  (previously reported as p.[[MISC_300]ISC_279]lu466del or c.1395_1397del[[MISC_300]ISC_279][[MISC_300]ISC_279]A) has been \n",
      "reported in more than 15 individuals  with [[MISC_300]ISC_53]YH -associated  adenomatous  polyposis either in the  homozygous or compound \n",
      "heterozygous state , and segregated with disease in  at least 6 affected family members from 3 families ([PER_604] 2003, [[MISC_300]ISC_279]ismondi 2004, Di \n",
      "[[MISC_300]ISC_279]regorio 2006, [PER_652] 2009, [PER_663] 2013). This variant is a deletion of the g lutamate residue ([[MISC_300]ISC_279]lu ) at position 477 and is not predicted to \n",
      "alter the protein reading -frame. In vitro functional studies provide some evidence that the p.[[MISC_300]ISC_279]lu477del variant may impact protein \n",
      "function ([PER_922] 2010, [[MISC_300]ISC_279]oto 2010, [MISC_300]olatore 2010) . This variant has also been ide ntified in 10/66728 [MISC_1017] and 4/16512 of South \n",
      "Asian chromosomes by the [[MISC_300]ISC_44]ome Aggregation Consortium, including one homozygote ([[MISC_300]ISC_44]AC, http://exac.broadinstitute.org). Please note \n",
      "that variants associated with diseases that have reduced penetrance and late age -of-onset may be present at a low frequency in large \n",
      "population studies; therefore  the frequency of this variant is consistent with the known prevalance and penetrance of this disease. In \n",
      "summary, this variant meets our criteria to be classified as p athogenic for [[MISC_300]ISC_53]YH -associated adenomatous  polyposis in an autosomal \n",
      "recessive manner (http://www.partners.org/personalizedmedicine/L[MISC_300][MISC_300]) based upon its frequency in patients, segregation studies , and \n",
      "functional evidence.\n",
      ">>> print metadata\n",
      "{'[MISC_44]': 'Ex', '[MISC_53]': 'MUT', '[MISC_213]': 'South Asian', '[ORG_241]': 'ExAC', '[MISC_279]': 'G', '[MISC_300]': 'M', '[MISC_418]': 'MUT', '[PER_604]': 'Halford', '[PER_618]': 'Gismondi', '[PER_633]': 'Di Gregorio', '[PER_652]': 'Vogt', '[PER_663]': 'Buisine', '[MISC_874]': 'G', '[PER_922]': 'Dagostino', '[PER_938]': 'Goto', '[PER_949]': 'Molatore', '[MISC_1017]': 'European', '[MISC_1041]': 'South Asian', '[ORG_1073]': 'Exome Aggregation Consortium', '[ORG_1129]': 'ExAC'}\n",
      ">>> print redated text\n",
      "page_label: 3\n",
      "file_name: health_report.pdf\n",
      "\n",
      "Accession ID: P[[[[MISC_1236]ISC_807]ISC_455]ISC_144] -XX-12345  \n",
      "Name: [ORG_79], [ORG_84]OHN    \n",
      "Family #: F012345  \n",
      "Page : 3 of 4 \n",
      " LABORATORY FOR [[[[MISC_1236]ISC_807]ISC_455]ISC_144]OLECULAR [[[[MISC_1236]ISC_807]ISC_455]ISC_144]EDICINE  \n",
      "65 [LOC_168], [LOC_183], [[[[MISC_1236]ISC_807]ISC_455]ISC_144]A 02139  \n",
      "Phone: (617) 768 -8500 / Fax: (617) 768 -8513  \n",
      "http://pcpgm.partners.org/lmm  \n",
      "DISEASE INFOR[[[[MISC_1236]ISC_807]ISC_455]ISC_144]ATION:  [[[[MISC_1236]ISC_807]ISC_455]ISC_144]UTYH -relat ed adenomatous polyposis (or autosomal recessive familial adenomatous polyposis; O[[[[MISC_1236]ISC_807]ISC_455]ISC_144]I[[[[MISC_1236]ISC_807]ISC_455]ISC_144]#  \n",
      "608456 ) is caused by  biallelic mutations in [[[[MISC_1236]ISC_807]ISC_455]ISC_144]UTYH  and is characterized by multiple colorectal adenomas and a high risk of colorectal \n",
      "cancer (43% to almost 100% in the absence of timely surveillance). Although typically associated with ten s to a few hundred colonic \n",
      "adenomatous polyps that are evident at a mean age of about  50 years, colon cancer develops in some individuals with biallelic [[[[MISC_1236]ISC_807]ISC_455]ISC_144]UTYH \n",
      "mutations in the absence o f polyposis. Duodenal adenomas are found in 17%- 25% of individuals; the lifetime risk of duodenal cancer is \n",
      "about 4%. Individuals may also have modestly increased risk for rather late -onset malignancies of the ovary, bladder, skin, breast and \n",
      "endometrial c ancer. Although [[[[MISC_1236]ISC_807]ISC_455]ISC_144]UTYH -related familial adenomatous polyposis is a recessive disorder, studies suggest that heterozygous \n",
      "carriers of [[[[MISC_1236]ISC_807]ISC_455]ISC_144]UTYH variants may have higher risk for colorectal cancer compared to the general population (OR: 2 -3) ([ORG_84]enkins 2006, [ORG_84]ones \n",
      "2009). (Adapted from GeneReviews http://www.ncbi.nlm.nih.gov/books/NBK107219/ ) \n",
      "PREVALENCE /CARRIER FREQUENCY:  [[[[MISC_1236]ISC_807]ISC_455]ISC_144]UTYH -related adenomatous polyposis is estimated to have a  prevalence of ~1/20,000 -40,000, \n",
      "with a carrier frequency of 1-2% in the  European population.  \n",
      "FA[[[[MISC_1236]ISC_807]ISC_455]ISC_144]ILIAL RISK: [[[[MISC_1236]ISC_807]ISC_455]ISC_144]UTYH -related adenomatous polyposis  is inherited in an autosomal recessive pattern. Two carriers have a 25% (or 1 in \n",
      "4) risk for having a child with the disease . Other biologically related family members may also be ca rriers of this variant.  \n",
      "Disease penetrance and severity can vary due to modifier genes and/or environmental factors. The significance of a variant sh ould \n",
      "therefore be interpreted in the context of the individual's clinical manifestations.  \n",
      " \n",
      "[[[[MISC_1236]ISC_807]ISC_455]ISC_144]ETHODOLOGY  \n",
      "Sequencing of this individual's genome was performed and covered a minimum of 95% of all positions at 8X coverage or higher. Reads are \n",
      "aligned to the human reference sequence  (GRCh37) using the Burrows -Wheeler Aligner (BWA), and variant calls are made using the \n",
      "Genomic Analysis Tool Kit (GATK).  Variants are filtered to identify: (1) variants with a minor allele frequency ≤5% in NHLBI Exome \n",
      "Sequencing Project ( http://evs.gs.washington.edu/EVS/ ) in the patient -specific phenotype -driven gene list (see supplement); (2) variants \n",
      "classified as disease causing in public databases; and (3) predicted loss -of-function variants  with a minor allele frequency ≤1%.  The \n",
      "evidence for phenotype -causality is then evaluated for each variant resulting from the filtering strategies above and variants are classified \n",
      "according to L[[[[MISC_1236]ISC_807]ISC_455]ISC_144][[[[MISC_1236]ISC_807]ISC_455]ISC_144] criteria ( http://pcpgm.partners.org/L[[[[MISC_1236]ISC_807]ISC_455]ISC_144][[[[MISC_1236]ISC_807]ISC_455]ISC_144] ). Only those variants with evidence for causing or contributing to disease are \n",
      "reported. All variants on this report have been confirmed via Sanger sequencing or another orthogonal technology.  \n",
      " \n",
      "The initial sequencing component of this test was performed by the Illumina Clinical Services Laboratory (San Diego, CA CLIA# 05D1092911) \n",
      "and the alignment, variant calling, data filtering, Sanger confirmation and interpretation were performed by the Lab oratory for [[[[MISC_1236]ISC_807]ISC_455]ISC_144]olecular \n",
      "[[[[MISC_1236]ISC_807]ISC_455]ISC_144]edicine at Partners Healthcare Personalized [[[[MISC_1236]ISC_807]ISC_455]ISC_144]edicine ( L[[[[MISC_1236]ISC_807]ISC_455]ISC_144][[[[MISC_1236]ISC_807]ISC_455]ISC_144], 65 [LOC_168], [LOC_183], [[[[MISC_1236]ISC_807]ISC_455]ISC_144]A 02139; 617- 768 -8500; \n",
      "CLIA#22D1005307).\n",
      ">>> print metadata\n",
      "{'[ORG_79]': 'DOE', '[ORG_84]': 'J', '[MISC_144]': 'M', '[MISC_147]': '##EC', '[LOC_168]': 'Landsdowne St', '[LOC_183]': 'Cambridge', '[LOC_194]': 'MA', '[MISC_307]': 'MUT', '[MISC_401]': 'OMI', '[MISC_455]': 'M', '[MISC_807]': 'M', '[MISC_1118]': 'MUT', '[MISC_1122]': '##H', '[MISC_1236]': 'M'}\n",
      ">>> print redated text\n",
      "page_label: 3\n",
      "file_name: health_report.pdf\n",
      "\n",
      "This test has not been cleared or approved by the [ORG_94].[ORG_96] ([ORG_1[M[ORG_1660][ORG_683][ORG_1809]_680]9]). The [ORG_1[M[ORG_1660][ORG_683][ORG_1809]_680]9] has determined that such clearance or approval is not necessary.  \n",
      "V[ORG_1840]R[ORG_1660][ORG_1840]NT [ORG_1840][ORG_683][ORG_683]E[ORG_683][ORG_683]MENT PRO[ORG_1809]E[ORG_683][ORG_683]  \n",
      "Each variant is evaluated based on the available information from the following: databases (including [ORG_341], [ORG_347], [ORG_356]s, N HLB[ORG_1660] Exome \n",
      "[ORG_683]equencing Project, [ORG_397]omes, and [ORG_415]), published literature, clinical correlation, segregation analysis, function al studies, and its \n",
      "predicted functional or splicing impact using evolutionary conservation analysis and computational tools (including [ORG_635]gnGVG[ORG_1838] , [ORG_647], \n",
      "[ORG_654]tationTaster, [M[ORG_1660][ORG_683][ORG_1809]_670]yPhen -[M[ORG_1660][ORG_683][ORG_1809]_680], [ORG_683][ORG_1660]FT, and [ORG_683]N[ORG_1840]P). Please see our website (www.partners.org/personalizedmedic ine/lmm) or publication \n",
      "([PER_785]e [M[ORG_1660][ORG_683][ORG_1809]_680]013; PubMed [ORG_1660][ORG_1838] [M[ORG_1660][ORG_683][ORG_1809]_680]4033[M[ORG_1660][ORG_683][ORG_1809]_680]66) for details on variant classification. Variants are reported according to HGV[ORG_683] nomenclatur e \n",
      "(www.hgvs.org/mutnomen ). \n",
      " \n",
      "L[ORG_1660]M[ORG_1660]T[ORG_1840]T[ORG_1660]ON[ORG_683]  \n",
      "[ORG_1660]t should be noted that this test does not sequence  all bases in a human genome, not all variants have been identified or interpreted , and this \n",
      "report is limited only to variants with evidence for causing or contributing to disease . Triplet repeat expansions, translocations and l arge \n",
      "copy number events are currently not reliably detected by genome sequencing. Furthermore, not all disease -associated genes have been \n",
      "identified and the clinical significance of variation in many genes is not well understood. [ORG_1660]t is recommended that genomic sequencing data is periodically reinterpreted, especially when new symptoms arise.  \n",
      "REFEREN[ORG_1809]E[ORG_683]  \n",
      "Buisine MP, [ORG_1615]tan [ORG_683], Wacrenier [ORG_1840], [ORG_1638]clerc [ORG_1806], [ORG_1638]jeune [ORG_683]. [ORG_1660]dentification of a patient with atypical M[ORG_94]TYH -associated polyposis through \n",
      "detection of the [ORG_1756]R[ORG_1840][ORG_683]  c.34G>T mutation in liver metastasis. [M[ORG_1660][ORG_683][ORG_1809]_680]013. [ORG_1806]. [ORG_1809]lin. Oncol. 31(9):e1[M[ORG_1660][ORG_683][ORG_1809]_680]5 -7 \n",
      " [ORG_1838]'[ORG_1840]gostino VG, Minoprio [ORG_1840], [ORG_1865]ri P, [PER_1876]ni [ORG_1660], [PER_1888]a [ORG_1809], [ORG_1897]rucci T[ORG_1809], [ORG_1840]lbertini [ORG_1840]M, Ranzani GN, Bignami M, Mazzei F. Functional analysis of M[ORG_94]TYH mutated proteins associated with familial adenomatous polyposis. [M[ORG_1660][ORG_683][ORG_1809]_680]010. [ORG_1838]N[ORG_1840] Repair ([ORG_1840]mst.). 9(6):700 -7 \n",
      " [ORG_1838]i Gregorio [ORG_1809], Frattini M, Maffei [ORG_683], Ponti G, Losi L, Pedroni M, Venesio T, Bertario L, Varesco L, Risio M, Ponz de [ORG_1638]on M. [ORG_1660]mmunohistochemical expression of MYH protein can be used to i dentify patients with MYH -associated polyposis. [M[ORG_1660][ORG_683][ORG_1809]_680]006. Gastroenterology. \n",
      "131([M[ORG_1660][ORG_683][ORG_1809]_680]):439 -44\n",
      ">>> print metadata\n",
      "{'[ORG_94]': 'U', '[ORG_96]': 'S. Food and Drug Administration', '[ORG_129]': 'FDA', '[ORG_139]': 'FDA', '[ORG_341]': 'HGMD', '[ORG_347]': 'ClinVar', '[ORG_356]': 'LSDB', '[ORG_363]': 'N HLBI Exome Sequencing Project', '[ORG_397]': '1000 Gen', '[MISC_405]': '##ome', '[ORG_415]': 'dbSNP', '[ORG_635]': 'Ali', '[ORG_640]': '##G', '[ORG_647]': 'MAPP', '[ORG_654]': 'Mu', '[ORG_662]': '##T', '[MISC_670]': 'Pol', '[ORG_674]': '##P', '[MISC_680]': '2', '[ORG_683]': 'S', '[PER_785]': 'Duzkal', '[ORG_791]': '##e', '[ORG_893]': 'HGVS', '[ORG_1591]': '##EF', '[ORG_1604]': '##ui', '[ORG_1615]': 'Cat', '[ORG_1638]': 'Le', '[ORG_1649]': 'Le', '[ORG_1660]': 'I', '[ORG_1756]': 'K', '[ORG_1806]': 'J', '[ORG_1809]': 'C', '[ORG_1838]': 'D', '[ORG_1840]': 'A', '[ORG_1865]': 'Torre', '[PER_1876]': 'Marino', '[ORG_1885]': 'I', '[PER_1888]': 'Boss', '[ORG_1894]': 'C', '[ORG_1897]': 'Pet', '[ORG_1907]': '##C', '[PER_1910]': 'Albert'}\n",
      ">>> print redated text\n",
      "page_label: 4\n",
      "file_name: health_[[ORG_989]RG_969]port.pdf\n",
      "\n",
      "Accession ID: PM -XX-12345  \n",
      "Name: [[ORG_989]RG_79], [[ORG_989]RG_84][ORG_989]HN    \n",
      "Family #: F012345  \n",
      "Page : 4 of 4 \n",
      " LA[ORG_1047][ORG_989]RAT[ORG_989]RY F[ORG_989]R M[ORG_989]LE[[ORG_989]RG_959]ULAR MEDI[[ORG_989]RG_959]INE  \n",
      "65 [L[ORG_989][[ORG_989]RG_959]_168], [L[ORG_989][[ORG_989]RG_959]_183], [L[ORG_989][[ORG_989]RG_959]_194] 02139  \n",
      "Phone: (617) 768 -8500 / Fax: (617) 768 -8513  \n",
      "http://pcpgm.partners.org/lmm  \n",
      "[PER_285], [PER_297], [PER_305], [PER_316], [PER_326], [PER_334], [PER_346], [PER_354], [PER_368], [PER_380], [PER_391], [PER_407], [PER_419], \n",
      "[PER_430], Va[[ORG_989]RG_969]sco  L. P[[ORG_989]RG_969]valence of the Y165[[ORG_989]RG_959], G382D and 1395delGGA germline mutations of the MYH gene in [MIS[[ORG_989]RG_959]_536] patients with \n",
      "adenomatous polyposis coli and colo[[ORG_989]RG_969]ctal adenomas. 2004. Int. [[ORG_989]RG_84]. [[ORG_989]RG_959]ancer. 109(5):680 -4 \n",
      " \n",
      "[PER_650], [PER_658], [PER_670], [PER_683], [PER_690] H, [PER_700] T, [PER_715] H. Adenine DNA glycosyla[ORG_1207] activity of 14 human [MIS[[ORG_989]RG_959]_772]tY \n",
      "homolog (MUTYH) variant proteins found in patients with colo[[ORG_989]RG_969]ctal polyposis and cancer. 2010. [[ORG_989]RG_873]m. [MIS[[ORG_989]RG_959]_772]tat. 31(11):E1861 -74 \n",
      " [PER_904], [ORG_1047]erg [[ORG_989]RG_84]S, [PER_923] WW, [PER_933], [PER_943], [PER_952] [[ORG_989]RG_959]L, [PER_963] [[ORG_989]RG_969] AL, [[ORG_989]RG_976], [ORG_989]'Daniel [[ORG_989]RG_84]M, [ORG_989]rmond [ORG_1009], [ORG_1013], [PER_1022] [ORG_1029], \n",
      "Williams [ORG_1029], [ORG_1047]ie[ORG_1207]cker LG, American [[ORG_989]RG_959]ollege of [ORG_1081] and [ORG_1102]omics. 2013. A[[ORG_989]RG_959]MG [[ORG_989]RG_969]commendations for [[ORG_989]RG_969]porting of inc idental \n",
      "findings in clinical [ORG_1190]ome and genome [ORG_1207]quencing. [ORG_1102]et. [ORG_1226]. 15(7):565- 74. \n",
      " \n",
      "[ORG_1250]ord [ORG_1258], Rowan A[[ORG_989]RG_84], [ORG_1272], Sieber [ORG_989]M, [ORG_1293], Thomas H[[ORG_989]RG_84], [ORG_1312], [ORG_1047]odmer WF, [ORG_1335]. [ORG_1349]mline mutations but not somatic \n",
      "changes at the MYH locus contribute to the pathogenesis of un[ORG_1207]lected colo[[ORG_989]RG_969]ctal cancers. 2003. Am. [[ORG_989]RG_84]. P athol. 162(5):1545 -8 \n",
      " \n",
      "Lu D, Lian H, Zhang X, Shao H, [[ORG_989]RG_873]ang L, Qin [[ORG_989]RG_959], Zhang L. 2010. LMNA E82K mutation activates FAS and mitochondrial pathways of apoptosis \n",
      "in heart tissue specific transgen ic mice. PLoS [ORG_989]NE. 5(12):e15167 \n",
      " \n",
      "Molato[[ORG_989]RG_969] S, Russo MT, D'Agostino VG, [ORG_1047]arone F, Matsumoto Y, Albertini AM, Minoprio A, Degan P, Mazzei F, [ORG_1047]ignami M, Ranzani GN. MUTYH \n",
      "mutations associated with familial adenomatous polyposis: functional characterization by a mammalian cell -ba[ORG_1207]d assay. 2010. [[ORG_989]RG_873]m. [MIS[[ORG_989]RG_959]_772]tat. \n",
      "31(2):159- 66 \n",
      " Sun LP, Wang L, Wang H, Zhang YH, Pu [[ORG_989]RG_84]L. 2010. [[ORG_989]RG_959]onn[ORG_1190]in 43 [[ORG_989]RG_969]modeling induced by LMNA gene mutation Glu82Lys in familial dilated \n",
      "cardiomyopathy with atrial ventricular block. [[ORG_989]RG_959]hin. Med. [[ORG_989]RG_84]. 123(8):1058 -62 \n",
      " \n",
      "Vogt S, [[ORG_989]RG_84]ones N, [[ORG_989]RG_959]hristian D, Engel [[ORG_989]RG_959], Niel[ORG_1207]n M, Kaufmann A, Steinke V, Va[ORG_1207]n HF, Propping P, Sampson [[ORG_989]RG_84]R, Hes F[[ORG_989]RG_84], A[[ORG_989]RG_969]tz S. Expanded \n",
      "[ORG_1190]tracolonic tumor spectrum in MUTYH -associated polyposis. 2009. Gastroenterology. 137(6):1976- 85.e1 -10 \n",
      " \n",
      "Wang H, Wang [[ORG_989]RG_84], Zheng W, Wang X, Wang S, Song L, Zou Y, Yao Y, [[ORG_989]RG_873]i R. 200 6. [MIS[[ORG_989]RG_959]_772]tation Glu82Lys in lamin A/[[ORG_989]RG_959] gene is associated with \n",
      "cardiomyopathy and conduction defect. [ORG_1047]iochem. [ORG_1047]io phys. Res. [[ORG_989]RG_959]ommun.\n",
      ">>> print metadata\n",
      "{'[ORG_79]': 'DOE', '[ORG_84]': 'J', '[MISC_147]': '##EC', '[LOC_168]': 'Landsdowne St', '[LOC_183]': 'Cambridge', '[LOC_194]': 'MA', '[PER_285]': 'Gismondi V', '[PER_297]': 'Meta M', '[PER_305]': 'Bonelli L', '[PER_316]': 'Radice P', '[PER_326]': 'Sala P', '[PER_334]': 'Bertario L', '[PER_346]': 'Viel A', '[PER_354]': 'Fornasarig M', '[PER_368]': 'Arrigoni A', '[PER_380]': 'Gentile M', '[PER_391]': 'Ponz de Leon M', '[PER_407]': 'Ans elmi L', '[PER_419]': 'Mareni C', '[PER_430]': 'Bruzzi P', '[PER_440]': 'Varesco L', '[MISC_536]': 'Italian', '[ORG_617]': 'Int. J. Cancer', '[PER_650]': 'Goto M', '[PER_658]': 'Shinmura K', '[PER_670]': 'Nakabeppu Y', '[PER_683]': 'Tao H', '[PER_690]': 'Yamada', '[PER_700]': 'Tsuneyos hi', '[PER_715]': 'Sugimura', '[MISC_772]': 'Mu', '[ORG_873]': 'Hu', '[ORG_878]': 'Mutat', '[PER_904]': 'Green RC', '[PER_914]': 'Berg J', '[PER_923]': 'Grody', '[PER_933]': 'Kalia SS', '[PER_943]': 'Korf BR', '[PER_952]': 'Martin', '[ORG_959]': 'C', '[PER_963]': 'McGui', '[ORG_969]': 're', '[ORG_976]': 'Nussbaum RL', '[ORG_989]': 'O', '[ORG_991]': 'Daniel JM', '[ORG_1002]': 'Or', '[PER_1004]': '##mond', '[ORG_1009]': 'KE', '[ORG_1013]': 'Rehm HL', '[PER_1022]': 'Watson', '[ORG_1029]': 'MS', '[ORG_1034]': 'Williams MS', '[ORG_1047]': 'B', '[ORG_1051]': '##ecker LG', '[ORG_1061]': 'American College', '[ORG_1081]': 'Medical Genetics', '[ORG_1102]': 'Gen', '[ORG_1118]': 'ACMG', '[ORG_1158]': '##c', '[ORG_1190]': 'ex', '[ORG_1207]': 'se', '[ORG_1219]': 'Gene', '[ORG_1226]': 'Me d', '[ORG_1250]': 'Half', '[ORG_1258]': 'SE', '[ORG_1262]': 'Rowan AJ', '[ORG_1272]': 'Lipton L', '[ORG_1282]': 'Sieber OM', '[ORG_1293]': 'Pack K', '[ORG_1301]': 'Thomas HJ', '[ORG_1312]': 'Hodgson SV', '[ORG_1324]': 'Bo', '[ORG_1327]': '##mer WF', '[ORG_1335]': 'Tomlinson IP', '[ORG_1349]': 'Ger', '[ORG_1353]': '##line'}\n",
      ">>> print redated text\n",
      "page_label: 4\n",
      "file_name: health_report.pdf\n",
      "\n",
      "[ORG_44]chem. [ORG_44] phys. Res. [ORG_68]mmun. 344(1):17- 24 \n",
      " [PER_92], [PER_98]K, [PER_107], [PER_114], [PER_121], [PER_130], [PER_137], [PER_143], [PER_150], [PER_98], [PER_164], [PER_171]. 2010. Identification of a ne w lamin A/C mutation in a \n",
      "[MISC_235] family affected with\n",
      " atrioventricular block as the prominent phenotype. [ORG_316]d. [ORG_353]. 30(1):103 -7 \n",
      " \n",
      " \n",
      "REPORT PREPARATION by:  Christina Austin- Tse, PhD on November 4, 2015  \n",
      "FINAL REPORT by:  Ozge [ORG_53]irsoy, PhD on November 13, 2015\n",
      ">>> print metadata\n",
      "{'[ORG_44]': 'Bio', '[ORG_50]': '##m', '[ORG_53]': 'B', '[ORG_68]': 'Co', '[PER_92]': 'Wu X', '[PER_98]': 'Wang Q', '[PER_107]': 'Gui L', '[PER_114]': 'Liu M', '[PER_121]': 'Zhang X', '[PER_130]': 'Jin R', '[PER_137]': 'Li W', '[PER_143]': 'Yan L', '[PER_150]': 'Du R', '[PER_156]': 'Wang Q', '[PER_164]': 'Zhu J', '[PER_171]': 'Yang J', '[MISC_235]': 'Chinese', '[ORG_316]': 'J. Huazhong Univ. Sci. Technol. Me', '[ORG_353]': 'Sci', '[PER_400]': 'Christina Austin - Tse', '[PER_467]': 'Ozge Birsoy'}\n",
      ">>> print redated text\n",
      "page_label: 5\n",
      "file_name: health_report.pdf\n",
      "\n",
      "Name: [ORG_50], [ORG_55]N   Accession ID: PM- XX-12345  \n",
      "DOB: 12/31 /1999                      MRN: 0123456789    Specimen: Blood, Peripheral  \n",
      "Sex: Male                      Referring facility: [LOC_229]   Lab Control Number: ABC123  \n",
      "Race/Ethnicity: [MISC_298]                              Referring physician: Dr. DNA    Received: 01/24/2014  \n",
      "Family #: F012345                       Copies to: [ORG_439]    Page: 1 of 2 \n",
      " \n",
      " \n",
      " REPORT SUPPLEMENT   \n",
      " \n",
      "COVERAGE OF ANALYZED GENES  \n",
      "Analysis included  335 genes  that have been p reviously implicated in cardiac diseases and myopathies including cardiomyopathies, \n",
      "myopathies, congenital heart diseases, arrhythmias, conduction disorders, and cardiac amyloid . The table below provides the list of these \n",
      "genes (and their coverage at ≥ 8X). Please note that the presence of pathogenic variation in genes not analyzed or with incomplete coverage \n",
      "cannot be fully excluded.\n",
      ">>> print metadata\n",
      "{'[ORG_50]': 'DOE', '[ORG_55]': 'JOH', '[LOC_229]': 'Double Helix Hospital', '[MISC_298]': 'White', '[ORG_439]': 'CGC'}\n",
      ">>> print redated text\n",
      "page_label: 5\n",
      "file_name: health_report.pdf\n",
      "\n",
      "[MISC_65]8x coverage \n",
      "(%) [MISC_65]8x coverage \n",
      "(%) [MISC_65]8x coverage \n",
      "(%) [MISC_65]8x coverage \n",
      "(%) [MISC_65]8x coverage \n",
      "(%)\n",
      "[ORG_149]RS2 100 CTF1 100 HCN4 100 MYO6 100 [ORG_186] 100\n",
      "ABCA1 100 CTNNA3 100 HIF1A 100 MYOCD 100 SEMA3A 100\n",
      "ABCC9 100 CXADR 100 HLA-DPB1 100 MYOM1 100 SEPN1 100\n",
      "ACAD9 100 CYP11B1 100 HRAS 100 MYOT 100 SGCA 100\n",
      "ACADVL 100 CYP11B2 100 HRC 100 MYOZ2 100 SGCB 100\n",
      "ACE 100 CYP19A1 100 HSPA1L 100 MYPN 100 SGCD 100\n",
      "ACE2 100 CYR61 100 HTR2A 100 N[ORG_149]10 100 SGCE 100\n",
      "ACTA1 100 DAG1 100 IFT172 100 NDUFA10 100 SGCG 100\n",
      "ACTA2 100 DDX39B 100 ILK 100 NDUFA2 100 SHOC2 100\n",
      "ACTC1 100 DES 100 IRX4 100 NDUFAF1 100 SHOX2 100\n",
      "ACTN2 100 DMD 98.2 IRX5 100 NDUFS4 100 SLC25A20 100\n",
      "ACVR1 100 DMPK 100 ISL1 100 NDUFS8 100 SLC25A3 100\n",
      "ADAM10 100 DNAJB6 100 ISPD 100 NDUFV2 100 SLC25A4 100\n",
      "ADAM15 100 DNAJC19 100 ITGB1BP2 100 NEB 100 SLC3A1 100\n",
      "ADRA1B 100 DNM2 100 JAG1 100 NEBL 100 SLC6A4 100\n",
      "ADRA2C 100 DOLK 100 JPH2 100 NEXN 100 SLN 100\n",
      "ADRB1 100 DOT1L 100 JUP 100 NFKBIL1 100 SMYD1 100\n",
      "ADRB2 100 DPP6 100 KALRN 100 NKX2-5 100 SNTA1 100\n",
      "AGK 100 DSC2 100 KCNA3 99.7 NOS3 100 SOD2 100\n",
      "AGT 100 DSG2 100 KCNA5 100 NOTCH1 100 SOS1 100\n",
      "AGTR1 100 DSP 100 KCND3 100 NPHP3 100 SRI 100\n",
      "AGTR2 100 DTNA 100 KCNE1 100 NPPA 100 STK11 100\n",
      "AKAP10 100 DYSF 100 KCNE1L 100 NPPB 100 STK4 100\n",
      "AKAP9 100 ECE1 100 KCNE2 100 NRAS 100 SYNE1 100\n",
      "ALG10 100 ECE2 100 KCNE3 100 NUP155 100 SYNM 100\n",
      "ALG10B 100 EDN2 100 KCNE4 100 OBSCN 100 TAB2 100\n",
      "ANK2 100 ELAC2 100 KCNH2 100 PABPN1 100 TAZ 100\n",
      "ANKRD1 100 ELN 100 KCNJ2 100 PDLIM3 100 TBX20 100\n",
      "ANO5 100 EMD 100 KCNJ5 100 PEPD 100 TBX5 100\n",
      "AP3B1 100 ESR1 100 KCNJ8 100 PIGL 100 TCAP 100\n",
      "APOA1 100 ESR2 100 KCNK3 100 PIK3C2A 100 TCF21 100\n",
      "AR 100 EYA4 100 KCNN2 100 PITX2 100 TDGF1 100\n",
      "ARFGEF2 100 FBN1 100 KCNN3 100 PKP2 100 TFAM 100\n",
      "LABORATORY FOR MOLECULAR MEDICINE  \n",
      "65 Landsdowne St, Cambridge, MA 02139  \n",
      "Phone: (617) 768- 8500 / Fax: (617) 768- 8513  \n",
      "http://pcpgm.partners.org/lmm\n",
      ">>> print metadata\n",
      "{'[MISC_65]': 'Gene', '[ORG_149]': 'AA', '[ORG_186]': 'SDHA'}\n",
      ">>> print redated text\n",
      "page_label: 6\n",
      "file_name: health_report.pdf\n",
      "\n",
      "Accession ID: PM -XX-12345  \n",
      "Name: [ORG_79], [ORG_84]   \n",
      "Family #: F012345  \n",
      "Page : 2 of 2 \n",
      " LABORATORY FOR MOLECUL[ORG_397] MEDICINE  \n",
      "65 [LOC_167] , [LOC_183] , [LOC_195] 02139  \n",
      "Phone: (617) 768- 8500 / Fax : (617) 768-8513  \n",
      "http://pcpgm.partners.org/lmm  \n",
      " \n",
      " \n",
      "  Gene8x coverage \n",
      "(%) Gene8x coverage \n",
      "(%) Gene8x coverage \n",
      "(%) Gene8x coverage \n",
      "(%) Gene8x coverage \n",
      "(%)\n",
      "[ORG_397]HGAP24 100 FBN2 100 KCNQ1 99.4 PLA2G7 100 TFB1M 100\n",
      "[ORG_397]HGEF10 100 FBXL4 100 KLF10 100 PLEC 100 TGFB3 100\n",
      "B3GAT3 100 FHL1 100 KLHL40 100 PLN 100 TGF[ORG_650]1 100\n",
      "BAG3 100 FHL2 100 KRAS 100 POLG 100 TGF[ORG_650]2 100\n",
      "BIN1 100 FHOD3 100 LA[LOC_195]2 100 POMGNT1 100 TLL1 100\n",
      "[ORG_650]AF 100 FKRP 99.7 LA[LOC_195]4 100 POMT1 100 TMEM43 100\n",
      "CACNA1C 100 FKTN 100 LAMP2 99.9 POMT2 100 TMEM70 100\n",
      "CACNA1D 100 FLNA 100 LDB3 99.9 PP[ORG_397]GC1A 100 TMPO 100\n",
      "CACNB2 100 FLNC 100 LDLR 100 PP[ORG_397]GC1B 100 TNNC1 100\n",
      "CALM1 100 FLT1 100 LMNA 100 PQBP1 100 TNNI1 100\n",
      "CALM3 100 FOXD4 100 LRP6 100 PRDM16 100 TNNI3 100\n",
      "CALR3 100 FOXH1 100 [LOC_195]P2K1 100 PRKAG2 100 TNNT1 100\n",
      "CAPN3 100 FOXRED1 100 [LOC_195]P2K2 100 PRK[ORG_397]1A 100 TNNT2 100\n",
      "CASQ2 100 FXN 100 MED13L 100 PSEN1 100 TPM1 100\n",
      "CAV1 100 G6PC3 100 MEF2A 100 PSEN2 100 TPM2 100\n",
      "CAV3 100 GATA4 100 MEF2C 100 PTK2B 100 TPM3 100\n",
      "CBL 100 GATA5 100 MICA 100 PTPN1 100 TRDN 100\n",
      "CD36 100 GATA6 100 MICB 100 PTPN11 100 TRIM32 100\n",
      "CEP85L 100 GATAD1 100 MLYCD 100 PTRF 100 TRIM63 100\n",
      "CFC1 100 GDF1 100 MMP3 100 RAF1 100 TRPM4 100\n",
      "CFL2 100 GJA1 100 MPO 100 RBM20 100 TRPM7 100\n",
      "CHRM2 100 GJA5 100 MRPL3 100 RETN 100 TSFM 100\n",
      "CHST3 100 GLA 100 MRPS22 100 RPP30 100 TSPO 100\n",
      "CITED2 100 GLB1 100 MTM1 100 RYR1 100 TTN 100\n",
      "C[LOC_195]1 100 GNAI2 100 MTO1 100 RYR2 100 TTR 100\n",
      "CNBP 100 GPD1L 100 MURC 100 SALL4 100 TXNRD2 100\n",
      "COA5 100 GSN 100 MYBPC3 100 SCN10A 100 VCL 100\n",
      "COL1A2 100 GYG1 100 MYH11 100 SCN1B 100 VEGFA 100\n",
      "COL3A1 100 GYS1 100 MYH6 100 SCN2B 100 VPS13A 100\n",
      "COX15 100 HADHA 100 MYH7 100 SCN3B 100 WISP3 100\n",
      "CRELD1 100 HADHB 100 MYH8 100 SCN4B 100 Y[ORG_397]S2 100\n",
      "CRP 100 HAND1 100 MYL2 100 SCN5A 100 ZFHX3 100\n",
      "CRYAB 100 HAND2 100 MYL3 100 SCO1 100 ZFPM2 100\n",
      "CSRP3 100 HCN2 98.6 MYLK2 100 SCO2 100 ZIC3 100\n",
      ">>> print metadata\n",
      "{'[ORG_79]': 'DOE', '[ORG_84]': 'JOHN', '[MISC_146]': '##EC', '[LOC_167]': 'Landsdowne St', '[LOC_183]': 'Cambridge', '[LOC_195]': 'MA', '[ORG_397]': 'AR', '[ORG_650]': 'BR'}\n"
     ]
    }
   ],
   "source": [
    "for node in new_nodes:\n",
    "    print(\">>> print redated text\")\n",
    "    print(node.text)\n",
    "    print(\">>> print metadata\")\n",
    "    print(node.node.metadata[\"__pii_node_info__\"])"
   ]
  },
  {
   "cell_type": "code",
   "execution_count": 14,
   "metadata": {},
   "outputs": [],
   "source": [
    "index = VectorStoreIndex([n.node for n in new_nodes], service_context=service_context,)\n"
   ]
  },
  {
   "cell_type": "code",
   "execution_count": 15,
   "metadata": {},
   "outputs": [
    {
     "name": "stdout",
     "output_type": "stream",
     "text": [
      "[ORG_50], [ORG_55]N\n"
     ]
    }
   ],
   "source": [
    "response = index.as_query_engine().query(\"What is the name of the patient?\")\n",
    "print(str(response))"
   ]
  },
  {
   "cell_type": "code",
   "execution_count": 16,
   "metadata": {},
   "outputs": [
    {
     "name": "stdout",
     "output_type": "stream",
     "text": [
      "\n",
      "\n",
      "RESPONE: >> Male\n"
     ]
    }
   ],
   "source": [
    "response = index.as_query_engine().query(\"what is sex of patient\")\n",
    "print(f\"\\n\\nRESPONE: >> {response}\")"
   ]
  },
  {
   "cell_type": "code",
   "execution_count": 17,
   "metadata": {},
   "outputs": [
    {
     "name": "stdout",
     "output_type": "stream",
     "text": [
      "F012345\n"
     ]
    }
   ],
   "source": [
    "response = index.as_query_engine().query(\"what is family #\")\n",
    "#print(f\"\\n\\nResponse:  >> {response}\")\n",
    "print(str(response))"
   ]
  },
  {
   "cell_type": "code",
   "execution_count": 18,
   "metadata": {},
   "outputs": [
    {
     "name": "stdout",
     "output_type": "stream",
     "text": [
      "Sequencing of this individual's genome was performed and the data was analyzed to identify previously reported and novel variants in (1) 335 genes that have been previously implicated in various cardiac diseases and myopathies (see Supplement for a list of genes and coverage information) ; and (2) variants classified as disease -causing in public databases that have a minor allele frequency 5% in [MISC_1125]uropean American or [MISC\n"
     ]
    }
   ],
   "source": [
    "response = index.as_query_engine().query(\"What is the methodology for the test?\")\n",
    "print(str(response))"
   ]
  },
  {
   "cell_type": "code",
   "execution_count": 19,
   "metadata": {},
   "outputs": [
    {
     "name": "stdout",
     "output_type": "stream",
     "text": [
      "The patient has a pathogenic variant in LMNA.\n"
     ]
    }
   ],
   "source": [
    "response = index.as_query_engine().query(\"What is the result?\")\n",
    "print(str(response))"
   ]
  }
 ],
 "metadata": {
  "kernelspec": {
   "display_name": "Python 3",
   "language": "python",
   "name": "python3"
  },
  "language_info": {
   "codemirror_mode": {
    "name": "ipython",
    "version": 3
   },
   "file_extension": ".py",
   "mimetype": "text/x-python",
   "name": "python",
   "nbconvert_exporter": "python",
   "pygments_lexer": "ipython3",
   "version": "3.9.17"
  },
  "orig_nbformat": 4
 },
 "nbformat": 4,
 "nbformat_minor": 2
}
